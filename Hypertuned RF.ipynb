{
 "cells": [
  {
   "cell_type": "code",
   "execution_count": 1,
   "id": "a94fedd4",
   "metadata": {},
   "outputs": [],
   "source": [
    "import pandas as pd\n",
    "import numpy as np\n",
    "from sklearn.ensemble import RandomForestRegressor\n",
    "from random import sample\n",
    "from sklearn.metrics import mean_squared_error\n",
    "import random\n",
    "import warnings"
   ]
  },
  {
   "cell_type": "code",
   "execution_count": 2,
   "id": "536f6d03",
   "metadata": {},
   "outputs": [],
   "source": [
    "score1=pd.read_csv(r\"C:\\Users\\samir\\Desktop\\QTM 385\\Final project\\training_score_new.csv\")"
   ]
  },
  {
   "cell_type": "code",
   "execution_count": 3,
   "id": "4c1a0ee2",
   "metadata": {},
   "outputs": [],
   "source": [
    "#x_train=score1[['valence','danceability','energy','key','mode','loudness','acousticness','instrumentalness','liveness','tempo','duration_ms','time_signature']]\n",
    "#x_test=score2[['valence','danceability','energy','key','mode','loudness','acousticness','instrumentalness','liveness','tempo','duration_ms','time_signature']]\n",
    "#y_train=score1['score']\n",
    "#y_test=score2['score']"
   ]
  },
  {
   "cell_type": "code",
   "execution_count": 4,
   "id": "f3cdb6fa-1d2f-42f5-b46d-8ddcdf0bb1d8",
   "metadata": {},
   "outputs": [
    {
     "name": "stdout",
     "output_type": "stream",
     "text": [
      "Unnamed: 0.1\n",
      "Unnamed: 0\n",
      "Index\n",
      "Highest Charting Position\n",
      "Number of Times Charted\n",
      "Week of Highest Charting\n",
      "Streams\n",
      "Artist Followers\n",
      "Song ID\n",
      "Genre\n",
      "Release Date\n",
      "Weeks Charted\n",
      "Popularity\n",
      "Valence\n",
      "Chord\n",
      "danceability\n",
      "energy\n",
      "key\n",
      "loudness\n",
      "mode\n",
      "speechiness\n",
      "acousticness\n",
      "instrumentalness\n",
      "liveness\n",
      "valence\n",
      "tempo\n",
      "type\n",
      "id\n",
      "uri\n",
      "track_href\n",
      "analysis_url\n",
      "duration_ms\n",
      "time_signature\n",
      "title\n",
      "artist\n",
      "score\n"
     ]
    }
   ],
   "source": [
    "for i in score1.columns:\n",
    "    print(i)"
   ]
  },
  {
   "cell_type": "code",
   "execution_count": 5,
   "id": "f514acfb",
   "metadata": {},
   "outputs": [],
   "source": [
    "score1=score1.sample(frac=1, random_state=123).reset_index(drop=True)\n",
    "train=score1[0:int(len(score1)*0.8)]\n",
    "test=score1[int(len(score1)*0.8):len(score1)]\n",
    "x_train=train[['valence','danceability','energy','key','mode','speechiness','loudness','acousticness','instrumentalness','liveness','tempo','duration_ms','time_signature']]\n",
    "x_test=test[['valence','danceability','energy','key','mode','speechiness','loudness','acousticness','instrumentalness','liveness','tempo','duration_ms','time_signature']]\n",
    "y_train=train['score']\n",
    "y_test=test['score']\n",
    "\n"
   ]
  },
  {
   "cell_type": "code",
   "execution_count": 6,
   "id": "422781bb",
   "metadata": {},
   "outputs": [
    {
     "name": "stdout",
     "output_type": "stream",
     "text": [
      "Model 1 with these predictors: valence\n",
      "MSE: 68.53173931281579\n",
      "   \n",
      "Model 2 with these predictors: danceability\n",
      "MSE: 77.20515933941797\n",
      "   \n",
      "Model 3 with these predictors: energy\n",
      "MSE: 73.39438206473922\n",
      "   \n",
      "Model 4 with these predictors: key\n",
      "MSE: 54.062742367315884\n",
      "   \n",
      "Model 5 with these predictors: mode\n",
      "MSE: 54.01575162605171\n",
      "   \n",
      "Model 6 with these predictors: speechiness\n",
      "MSE: 90.04065915870393\n",
      "   \n",
      "Model 7 with these predictors: loudness\n",
      "MSE: 67.33593266373953\n",
      "   \n",
      "Model 8 with these predictors: acousticness\n",
      "MSE: 87.69079303055706\n",
      "   \n",
      "Model 9 with these predictors: instrumentalness\n",
      "MSE: 58.78202512849902\n",
      "   \n",
      "Model 10 with these predictors: liveness\n",
      "MSE: 64.52520845886907\n",
      "   \n",
      "Model 11 with these predictors: tempo\n",
      "MSE: 64.78239276955232\n",
      "   \n",
      "Model 12 with these predictors: duration_ms\n",
      "MSE: 67.30694173371485\n",
      "   \n",
      "Model 13 with these predictors: time_signature\n",
      "MSE: 54.13613648291123\n",
      "   \n"
     ]
    },
    {
     "data": {
      "text/plain": [
       "67.83152801052982"
      ]
     },
     "execution_count": 6,
     "metadata": {},
     "output_type": "execute_result"
    }
   ],
   "source": [
    "warnings.filterwarnings('ignore')\n",
    "random.seed(123)\n",
    "mselist=[]\n",
    "selectedpredictor=[]\n",
    "count=0\n",
    "for i in x_train.columns:   \n",
    "    rf = RandomForestRegressor(n_estimators = 1000, bootstrap = True, oob_score = True,random_state=123)\n",
    "    fitted_model=rf.fit(np.array(x_train[i]).reshape(-1,1),np.array(y_train).reshape(-1,1))\n",
    "    predicted_values=fitted_model.predict(np.array(x_test[i]).reshape(-1,1))\n",
    "    mse = mean_squared_error(y_test, predicted_values)\n",
    "    mselist.append(mse)\n",
    "    selectedpredictor.append(i)\n",
    "    \n",
    "    print('Model',count+1, 'with these predictors:',  i)\n",
    "    print('MSE:', mselist[count])\n",
    "    print('   ') \n",
    "    count+=1\n",
    "md1 = sum(mselist)/len(mselist)\n",
    "md1"
   ]
  },
  {
   "cell_type": "code",
   "execution_count": 7,
   "id": "3b49ccd2-41dc-4c37-8485-fb4a29e0f789",
   "metadata": {},
   "outputs": [
    {
     "name": "stdout",
     "output_type": "stream",
     "text": [
      "Model 1 with these predictors: valence\n",
      "MSE: 54.433469954776974\n",
      "   \n",
      "Model 2 with these predictors: danceability\n",
      "MSE: 55.54038518237599\n",
      "   \n",
      "Model 3 with these predictors: energy\n",
      "MSE: 54.40311470585685\n",
      "   \n",
      "Model 4 with these predictors: key\n",
      "MSE: 53.899152358225386\n",
      "   \n",
      "Model 5 with these predictors: mode\n",
      "MSE: 54.01575162605171\n",
      "   \n",
      "Model 6 with these predictors: speechiness\n",
      "MSE: 54.95950874987435\n",
      "   \n",
      "Model 7 with these predictors: loudness\n",
      "MSE: 53.53401331504321\n",
      "   \n",
      "Model 8 with these predictors: acousticness\n",
      "MSE: 57.028696193744715\n",
      "   \n",
      "Model 9 with these predictors: instrumentalness\n",
      "MSE: 55.13709156624818\n",
      "   \n",
      "Model 10 with these predictors: liveness\n",
      "MSE: 53.7580548429588\n",
      "   \n",
      "Model 11 with these predictors: tempo\n",
      "MSE: 53.865695401109065\n",
      "   \n",
      "Model 12 with these predictors: duration_ms\n",
      "MSE: 54.379501600219335\n",
      "   \n",
      "Model 13 with these predictors: time_signature\n",
      "MSE: 54.13493199836258\n",
      "   \n"
     ]
    },
    {
     "data": {
      "text/plain": [
       "54.545335961142094"
      ]
     },
     "execution_count": 7,
     "metadata": {},
     "output_type": "execute_result"
    }
   ],
   "source": [
    "warnings.filterwarnings('ignore')\n",
    "random.seed(123)\n",
    "mselist=[]\n",
    "selectedpredictor=[]\n",
    "count=0\n",
    "for i in x_train.columns:   \n",
    "    rf = RandomForestRegressor(n_estimators = 1000, max_depth = 2, bootstrap = True, oob_score = True,random_state=123)\n",
    "    fitted_model=rf.fit(np.array(x_train[i]).reshape(-1,1),np.array(y_train).reshape(-1,1))\n",
    "    predicted_values=fitted_model.predict(np.array(x_test[i]).reshape(-1,1))\n",
    "    mse = mean_squared_error(y_test, predicted_values)\n",
    "    mselist.append(mse)\n",
    "    selectedpredictor.append(i)\n",
    "    \n",
    "    print('Model',count+1, 'with these predictors:',  i)\n",
    "    print('MSE:', mselist[count])\n",
    "    print('   ') \n",
    "    count+=1\n",
    "md2 = sum(mselist)/len(mselist)\n",
    "md2"
   ]
  },
  {
   "cell_type": "code",
   "execution_count": 8,
   "id": "c1cf8774-b1c5-4245-81a0-3c1c67e7f029",
   "metadata": {},
   "outputs": [
    {
     "name": "stdout",
     "output_type": "stream",
     "text": [
      "Model 1 with these predictors: valence\n",
      "MSE: 54.74951404466445\n",
      "   \n",
      "Model 2 with these predictors: danceability\n",
      "MSE: 57.746027347143375\n",
      "   \n",
      "Model 3 with these predictors: energy\n",
      "MSE: 55.346945202490986\n",
      "   \n",
      "Model 4 with these predictors: key\n",
      "MSE: 53.92873040238706\n",
      "   \n",
      "Model 5 with these predictors: mode\n",
      "MSE: 54.01575162605171\n",
      "   \n",
      "Model 6 with these predictors: speechiness\n",
      "MSE: 56.10694254753043\n",
      "   \n",
      "Model 7 with these predictors: loudness\n",
      "MSE: 53.77178251605908\n",
      "   \n",
      "Model 8 with these predictors: acousticness\n",
      "MSE: 60.48440414128765\n",
      "   \n",
      "Model 9 with these predictors: instrumentalness\n",
      "MSE: 56.705776336587334\n",
      "   \n",
      "Model 10 with these predictors: liveness\n",
      "MSE: 54.03192988415694\n",
      "   \n",
      "Model 11 with these predictors: tempo\n",
      "MSE: 53.649208374755354\n",
      "   \n",
      "Model 12 with these predictors: duration_ms\n",
      "MSE: 55.004047299731084\n",
      "   \n",
      "Model 13 with these predictors: time_signature\n",
      "MSE: 54.13613648291123\n",
      "   \n"
     ]
    },
    {
     "data": {
      "text/plain": [
       "55.35978432351975"
      ]
     },
     "execution_count": 8,
     "metadata": {},
     "output_type": "execute_result"
    }
   ],
   "source": [
    "warnings.filterwarnings('ignore')\n",
    "random.seed(123)\n",
    "mselist=[]\n",
    "selectedpredictor=[]\n",
    "count=0\n",
    "for i in x_train.columns:   \n",
    "    rf = RandomForestRegressor(n_estimators = 1000, max_depth = 3, bootstrap = True, oob_score = True,random_state=123)\n",
    "    fitted_model=rf.fit(np.array(x_train[i]).reshape(-1,1),np.array(y_train).reshape(-1,1))\n",
    "    predicted_values=fitted_model.predict(np.array(x_test[i]).reshape(-1,1))\n",
    "    mse = mean_squared_error(y_test, predicted_values)\n",
    "    mselist.append(mse)\n",
    "    selectedpredictor.append(i)\n",
    "    \n",
    "    print('Model',count+1, 'with these predictors:',  i)\n",
    "    print('MSE:', mselist[count])\n",
    "    print('   ') \n",
    "    count+=1\n",
    "md3 = sum(mselist)/len(mselist)\n",
    "md3"
   ]
  },
  {
   "cell_type": "code",
   "execution_count": 9,
   "id": "0f5bae2e-b9f8-48aa-9115-89be483294a9",
   "metadata": {},
   "outputs": [
    {
     "name": "stdout",
     "output_type": "stream",
     "text": [
      "Model 1 with these predictors: valence\n",
      "MSE: 55.602954687704205\n",
      "   \n",
      "Model 2 with these predictors: danceability\n",
      "MSE: 60.163206213757384\n",
      "   \n",
      "Model 3 with these predictors: energy\n",
      "MSE: 56.683028035238635\n",
      "   \n",
      "Model 4 with these predictors: key\n",
      "MSE: 53.9811537148593\n",
      "   \n",
      "Model 5 with these predictors: mode\n",
      "MSE: 54.01575162605171\n",
      "   \n",
      "Model 6 with these predictors: speechiness\n",
      "MSE: 57.28324894697998\n",
      "   \n",
      "Model 7 with these predictors: loudness\n",
      "MSE: 54.59992572989013\n",
      "   \n",
      "Model 8 with these predictors: acousticness\n",
      "MSE: 63.77697431961189\n",
      "   \n",
      "Model 9 with these predictors: instrumentalness\n",
      "MSE: 57.761985725537194\n",
      "   \n",
      "Model 10 with these predictors: liveness\n",
      "MSE: 54.89139792123527\n",
      "   \n",
      "Model 11 with these predictors: tempo\n",
      "MSE: 53.33348008363535\n",
      "   \n",
      "Model 12 with these predictors: duration_ms\n",
      "MSE: 55.41688362708757\n",
      "   \n",
      "Model 13 with these predictors: time_signature\n",
      "MSE: 54.13613648291123\n",
      "   \n"
     ]
    },
    {
     "data": {
      "text/plain": [
       "56.280471316499984"
      ]
     },
     "execution_count": 9,
     "metadata": {},
     "output_type": "execute_result"
    }
   ],
   "source": [
    "warnings.filterwarnings('ignore')\n",
    "random.seed(123)\n",
    "mselist=[]\n",
    "selectedpredictor=[]\n",
    "count=0\n",
    "for i in x_train.columns:   \n",
    "    rf = RandomForestRegressor(n_estimators = 1000, max_depth = 4, bootstrap = True, oob_score = True,random_state=123)\n",
    "    fitted_model=rf.fit(np.array(x_train[i]).reshape(-1,1),np.array(y_train).reshape(-1,1))\n",
    "    predicted_values=fitted_model.predict(np.array(x_test[i]).reshape(-1,1))\n",
    "    mse = mean_squared_error(y_test, predicted_values)\n",
    "    mselist.append(mse)\n",
    "    selectedpredictor.append(i)\n",
    "    \n",
    "    print('Model',count+1, 'with these predictors:',  i)\n",
    "    print('MSE:', mselist[count])\n",
    "    print('   ') \n",
    "    count+=1\n",
    "md4 = sum(mselist)/len(mselist)\n",
    "md4"
   ]
  },
  {
   "cell_type": "code",
   "execution_count": 10,
   "id": "7e703b70-c483-4638-8418-51d963ed23f1",
   "metadata": {},
   "outputs": [
    {
     "name": "stdout",
     "output_type": "stream",
     "text": [
      "Model 1 with these predictors: valence\n",
      "MSE: 56.526033541591644\n",
      "   \n",
      "Model 2 with these predictors: danceability\n",
      "MSE: 62.02368194094525\n",
      "   \n",
      "Model 3 with these predictors: energy\n",
      "MSE: 58.47939563314764\n",
      "   \n",
      "Model 4 with these predictors: key\n",
      "MSE: 54.02346909957101\n",
      "   \n",
      "Model 5 with these predictors: mode\n",
      "MSE: 54.01575162605171\n",
      "   \n",
      "Model 6 with these predictors: speechiness\n",
      "MSE: 59.97413242030022\n",
      "   \n",
      "Model 7 with these predictors: loudness\n",
      "MSE: 55.34542425017732\n",
      "   \n",
      "Model 8 with these predictors: acousticness\n",
      "MSE: 67.87204110465404\n",
      "   \n",
      "Model 9 with these predictors: instrumentalness\n",
      "MSE: 57.74495638003323\n",
      "   \n",
      "Model 10 with these predictors: liveness\n",
      "MSE: 55.923743721188295\n",
      "   \n",
      "Model 11 with these predictors: tempo\n",
      "MSE: 53.40727857429092\n",
      "   \n",
      "Model 12 with these predictors: duration_ms\n",
      "MSE: 55.80333887953666\n",
      "   \n",
      "Model 13 with these predictors: time_signature\n",
      "MSE: 54.13613648291123\n",
      "   \n"
     ]
    },
    {
     "data": {
      "text/plain": [
       "57.32887566572302"
      ]
     },
     "execution_count": 10,
     "metadata": {},
     "output_type": "execute_result"
    }
   ],
   "source": [
    "warnings.filterwarnings('ignore')\n",
    "random.seed(123)\n",
    "mselist=[]\n",
    "selectedpredictor=[]\n",
    "count=0\n",
    "for i in x_train.columns:   \n",
    "    rf = RandomForestRegressor(n_estimators = 1000, max_depth = 5, bootstrap = True, oob_score = True,random_state=123)\n",
    "    fitted_model=rf.fit(np.array(x_train[i]).reshape(-1,1),np.array(y_train).reshape(-1,1))\n",
    "    predicted_values=fitted_model.predict(np.array(x_test[i]).reshape(-1,1))\n",
    "    mse = mean_squared_error(y_test, predicted_values)\n",
    "    mselist.append(mse)\n",
    "    selectedpredictor.append(i)\n",
    "    \n",
    "    print('Model',count+1, 'with these predictors:',  i)\n",
    "    print('MSE:', mselist[count])\n",
    "    print('   ') \n",
    "    count+=1\n",
    "md5 = sum(mselist)/len(mselist)\n",
    "md5"
   ]
  },
  {
   "cell_type": "code",
   "execution_count": 11,
   "id": "5798e0c8-8487-4f71-baa6-bfbd28893154",
   "metadata": {},
   "outputs": [
    {
     "name": "stdout",
     "output_type": "stream",
     "text": [
      "Model 1 with these predictors: valence\n",
      "MSE: 63.24457195017848\n",
      "   \n",
      "Model 2 with these predictors: danceability\n",
      "MSE: 68.98596205591967\n",
      "   \n",
      "Model 3 with these predictors: energy\n",
      "MSE: 67.78641213198983\n",
      "   \n",
      "Model 4 with these predictors: key\n",
      "MSE: 54.062742367315884\n",
      "   \n",
      "Model 5 with these predictors: mode\n",
      "MSE: 54.01575162605171\n",
      "   \n",
      "Model 6 with these predictors: speechiness\n",
      "MSE: 80.55856574776338\n",
      "   \n",
      "Model 7 with these predictors: loudness\n",
      "MSE: 60.53270327507926\n",
      "   \n",
      "Model 8 with these predictors: acousticness\n",
      "MSE: 82.65817533727756\n",
      "   \n",
      "Model 9 with these predictors: instrumentalness\n",
      "MSE: 58.64710840543966\n",
      "   \n",
      "Model 10 with these predictors: liveness\n",
      "MSE: 61.69543553918922\n",
      "   \n",
      "Model 11 with these predictors: tempo\n",
      "MSE: 56.42451911622441\n",
      "   \n",
      "Model 12 with these predictors: duration_ms\n",
      "MSE: 60.46263842449277\n",
      "   \n",
      "Model 13 with these predictors: time_signature\n",
      "MSE: 54.13613648291123\n",
      "   \n"
     ]
    },
    {
     "data": {
      "text/plain": [
       "63.32390172767946"
      ]
     },
     "execution_count": 11,
     "metadata": {},
     "output_type": "execute_result"
    }
   ],
   "source": [
    "warnings.filterwarnings('ignore')\n",
    "random.seed(123)\n",
    "mselist=[]\n",
    "selectedpredictor=[]\n",
    "count=0\n",
    "for i in x_train.columns:   \n",
    "    rf = RandomForestRegressor(n_estimators = 1000, max_depth = 10, bootstrap = True, oob_score = True,random_state=123)\n",
    "    fitted_model=rf.fit(np.array(x_train[i]).reshape(-1,1),np.array(y_train).reshape(-1,1))\n",
    "    predicted_values=fitted_model.predict(np.array(x_test[i]).reshape(-1,1))\n",
    "    mse = mean_squared_error(y_test, predicted_values)\n",
    "    mselist.append(mse)\n",
    "    selectedpredictor.append(i)\n",
    "    \n",
    "    print('Model',count+1, 'with these predictors:',  i)\n",
    "    print('MSE:', mselist[count])\n",
    "    print('   ') \n",
    "    count+=1\n",
    "md10 = sum(mselist)/len(mselist)\n",
    "md10"
   ]
  },
  {
   "cell_type": "code",
   "execution_count": 12,
   "id": "6c42133c-1cb9-4593-bdaf-4f0b2520df80",
   "metadata": {},
   "outputs": [
    {
     "name": "stdout",
     "output_type": "stream",
     "text": [
      "67.83152801052982  max depth of 1\n",
      " 54.545335961142094  max depth of 2\n",
      " 55.35978432351975  max depth of 3\n",
      " 56.280471316499984  max depth of 4\n",
      " 57.32887566572302  max depth of 5\n",
      " 63.32390172767946  max depth of 10\n"
     ]
    }
   ],
   "source": [
    "print(md1, ' max depth of 1\\n',md2, ' max depth of 2\\n',md3, ' max depth of 3\\n',md4, ' max depth of 4\\n',md5, ' max depth of 5\\n',md10, ' max depth of 10')"
   ]
  },
  {
   "cell_type": "markdown",
   "id": "64f587d9-bc9f-4f78-8fc9-2133175125b7",
   "metadata": {},
   "source": [
    "Best parameter for max_depth is 2"
   ]
  },
  {
   "cell_type": "code",
   "execution_count": 13,
   "id": "aa05e048",
   "metadata": {},
   "outputs": [
    {
     "name": "stdout",
     "output_type": "stream",
     "text": [
      "Model 1 with these predictors: acousticness,  valence\n",
      "MSE: 56.574891628584524\n",
      "   \n",
      "Model 2 with these predictors: acousticness,  danceability\n",
      "MSE: 56.78230298713121\n",
      "   \n",
      "Model 3 with these predictors: acousticness,  energy\n",
      "MSE: 56.847468130053336\n",
      "   \n",
      "Model 4 with these predictors: acousticness,  key\n",
      "MSE: 56.56073216384692\n",
      "   \n",
      "Model 5 with these predictors: acousticness,  mode\n",
      "MSE: 57.017642196274934\n",
      "   \n",
      "Model 6 with these predictors: acousticness,  speechiness\n",
      "MSE: 56.3267827058129\n",
      "   \n",
      "Model 7 with these predictors: acousticness,  loudness\n",
      "MSE: 56.490848507925236\n",
      "   \n",
      "Model 8 with these predictors: acousticness,  instrumentalness\n",
      "MSE: 56.89512575690424\n",
      "   \n",
      "Model 9 with these predictors: acousticness,  liveness\n",
      "MSE: 55.34956328826432\n",
      "   \n",
      "Model 10 with these predictors: acousticness,  duration_ms\n",
      "MSE: 56.74705539450088\n",
      "   \n",
      "Model 11 with these predictors: acousticness,  tempo\n",
      "MSE: 56.19006154040692\n",
      "   \n",
      "Model 12 with these predictors: acousticness,  time_signature\n",
      "MSE: 57.011350919180344\n",
      "   \n"
     ]
    }
   ],
   "source": [
    "vecofpredics=['valence','danceability','energy','key','mode','speechiness','loudness','instrumentalness','liveness','duration_ms','tempo','time_signature']\n",
    "mselist=[]\n",
    "selectedpredictor=[]\n",
    "count=0\n",
    "for i in vecofpredics:   \n",
    "    rf = RandomForestRegressor(n_estimators = 1000, max_depth = 2, bootstrap = True, oob_score = True,random_state=123)\n",
    "    fitted_model=rf.fit(np.array(x_train[[i,'acousticness']]),np.array(y_train).reshape(-1,1))\n",
    "    predicted_values=fitted_model.predict(np.array(x_test[[i,'acousticness']]))\n",
    "    mse = mean_squared_error(y_test, predicted_values)\n",
    "    mselist.append(mse)\n",
    "    selectedpredictor.append(i)\n",
    "    \n",
    "    print('Model',count+1, 'with these predictors:','acousticness, ',i)\n",
    "    print('MSE:', mselist[count])\n",
    "    print('   ')\n",
    "    count+=1"
   ]
  },
  {
   "cell_type": "markdown",
   "id": "89cff281-fd98-4e86-9a28-457c6d1eeba6",
   "metadata": {},
   "source": [
    "Model 7 with these predictors: acousticness,  loudness\n",
    "\n",
    "MSE: 36.83241646569841\n",
    "\n",
    "Lowest MSE weve seen so far."
   ]
  },
  {
   "cell_type": "code",
   "execution_count": 14,
   "id": "a9811aec",
   "metadata": {},
   "outputs": [
    {
     "name": "stdout",
     "output_type": "stream",
     "text": [
      "Model 1 with these predictors: acousticness, loudness,  valence\n",
      "MSE: 56.330944463591955\n",
      "   \n",
      "Model 2 with these predictors: acousticness, loudness,  danceability\n",
      "MSE: 56.45252484395005\n",
      "   \n",
      "Model 3 with these predictors: acousticness, loudness,  energy\n",
      "MSE: 56.489223926834086\n",
      "   \n",
      "Model 4 with these predictors: acousticness, loudness,  key\n",
      "MSE: 56.28301356597178\n",
      "   \n",
      "Model 5 with these predictors: acousticness, loudness,  mode\n",
      "MSE: 56.486517552860136\n",
      "   \n",
      "Model 6 with these predictors: acousticness, loudness,  speechiness\n",
      "MSE: 56.19966460210605\n",
      "   \n",
      "Model 7 with these predictors: acousticness, loudness,  instrumentalness\n",
      "MSE: 56.57642763210657\n",
      "   \n",
      "Model 8 with these predictors: acousticness, loudness,  liveness\n",
      "MSE: 55.32443558840722\n",
      "   \n",
      "Model 9 with these predictors: acousticness, loudness,  duration_ms\n",
      "MSE: 56.46485259983313\n",
      "   \n",
      "Model 10 with these predictors: acousticness, loudness,  tempo\n",
      "MSE: 55.95050017082262\n",
      "   \n",
      "Model 11 with these predictors: acousticness, loudness,  time_signature\n",
      "MSE: 56.49812871560823\n",
      "   \n"
     ]
    }
   ],
   "source": [
    "vecofpredics=['valence','danceability','energy','key','mode','speechiness','instrumentalness','liveness','duration_ms','tempo','time_signature']\n",
    "mselist=[]\n",
    "selectedpredictor=[]\n",
    "count=0\n",
    "for i in vecofpredics:   \n",
    "    rf = RandomForestRegressor(n_estimators = 1000, bootstrap = True, max_depth =2, oob_score = True,random_state=123)\n",
    "    fitted_model=rf.fit(np.array(x_train[[i,'acousticness','loudness']]),np.array(y_train).reshape(-1,1))\n",
    "    predicted_values=fitted_model.predict(np.array(x_test[[i,'acousticness','loudness']]))\n",
    "    mse = mean_squared_error(y_test, predicted_values)\n",
    "    mselist.append(mse)\n",
    "    selectedpredictor.append(i)\n",
    "    \n",
    "    print('Model',count+1, 'with these predictors:','acousticness, loudness, ',i)\n",
    "    print('MSE:', mselist[count])\n",
    "    print('   ')\n",
    "    count+=1"
   ]
  },
  {
   "cell_type": "code",
   "execution_count": 15,
   "id": "59bf648c",
   "metadata": {},
   "outputs": [
    {
     "name": "stdout",
     "output_type": "stream",
     "text": [
      "Model 1 with these predictors: acousticness loudness time_signature valence\n",
      "MSE: 56.334403803624184\n",
      "   \n",
      "Model 2 with these predictors: acousticness loudness time_signature danceability\n",
      "MSE: 56.461146997823576\n",
      "   \n",
      "Model 3 with these predictors: acousticness loudness time_signature energy\n",
      "MSE: 56.498099620767334\n",
      "   \n",
      "Model 4 with these predictors: acousticness loudness time_signature key\n",
      "MSE: 56.28435713090897\n",
      "   \n",
      "Model 5 with these predictors: acousticness loudness time_signature mode\n",
      "MSE: 56.49381759491069\n",
      "   \n",
      "Model 6 with these predictors: acousticness loudness time_signature speechiness\n",
      "MSE: 56.2100705784932\n",
      "   \n",
      "Model 7 with these predictors: acousticness loudness time_signature instrumentalness\n",
      "MSE: 56.57651072521676\n",
      "   \n",
      "Model 8 with these predictors: acousticness loudness time_signature liveness\n",
      "MSE: 55.33260416571892\n",
      "   \n",
      "Model 9 with these predictors: acousticness loudness time_signature duration_ms\n",
      "MSE: 56.47060320791369\n",
      "   \n",
      "Model 10 with these predictors: acousticness loudness time_signature tempo\n",
      "MSE: 55.959053472218926\n",
      "   \n"
     ]
    }
   ],
   "source": [
    "vecofpredics=['valence','danceability','energy','key','mode','speechiness','instrumentalness','liveness','duration_ms','tempo']\n",
    "mselist=[]\n",
    "selectedpredictor=[]\n",
    "count=0\n",
    "for i in vecofpredics:   \n",
    "    rf = RandomForestRegressor(n_estimators = 1000, max_depth =2,  bootstrap = True, oob_score = True,random_state=123)\n",
    "    fitted_model=rf.fit(np.array(x_train[[i,'acousticness','loudness','time_signature']]),np.array(y_train).reshape(-1,1))\n",
    "    predicted_values=fitted_model.predict(np.array(x_test[[i,'acousticness','loudness','time_signature']]))\n",
    "    mse = mean_squared_error(y_test, predicted_values)\n",
    "    mselist.append(mse)\n",
    "    selectedpredictor.append(i)\n",
    "    \n",
    "    print('Model',count+1, 'with these predictors:','acousticness','loudness','time_signature' ,i)\n",
    "    print('MSE:', mselist[count])\n",
    "    print('   ')\n",
    "    count+=1"
   ]
  },
  {
   "cell_type": "code",
   "execution_count": 16,
   "id": "009a2a6f",
   "metadata": {},
   "outputs": [
    {
     "name": "stdout",
     "output_type": "stream",
     "text": [
      "Model 1 with these predictors: acousticness loudness time_signature mode  valence\n",
      "MSE: 56.319454220975025\n",
      "   \n",
      "Model 2 with these predictors: acousticness loudness time_signature mode  danceability\n",
      "MSE: 56.45493708227089\n",
      "   \n",
      "Model 3 with these predictors: acousticness loudness time_signature mode  energy\n",
      "MSE: 56.494019536069224\n",
      "   \n",
      "Model 4 with these predictors: acousticness loudness time_signature mode  key\n",
      "MSE: 56.272159379868654\n",
      "   \n",
      "Model 5 with these predictors: acousticness loudness time_signature mode  speechiness\n",
      "MSE: 56.20700300144522\n",
      "   \n",
      "Model 6 with these predictors: acousticness loudness time_signature mode  instrumentalness\n",
      "MSE: 56.57519616340116\n",
      "   \n",
      "Model 7 with these predictors: acousticness loudness time_signature mode  liveness\n",
      "MSE: 55.329828750254244\n",
      "   \n",
      "Model 8 with these predictors: acousticness loudness time_signature mode  duration_ms\n",
      "MSE: 56.469743544534424\n",
      "   \n",
      "Model 9 with these predictors: acousticness loudness time_signature mode  tempo\n",
      "MSE: 55.953913122393985\n",
      "   \n"
     ]
    }
   ],
   "source": [
    "vecofpredics=['valence','danceability','energy','key','speechiness','instrumentalness','liveness','duration_ms','tempo']\n",
    "mselist=[]\n",
    "selectedpredictor=[]\n",
    "count=0\n",
    "for i in vecofpredics:   \n",
    "    rf = RandomForestRegressor(n_estimators = 1000, max_depth = 2, bootstrap = True, oob_score = True,random_state=123)\n",
    "    fitted_model=rf.fit(np.array(x_train[[i,'acousticness','loudness','time_signature','mode']]),np.array(y_train).reshape(-1,1))\n",
    "    predicted_values=fitted_model.predict(np.array(x_test[[i,'acousticness','loudness','time_signature','mode']]))\n",
    "    mse = mean_squared_error(y_test, predicted_values)\n",
    "    mselist.append(mse)\n",
    "    selectedpredictor.append(i)\n",
    "    \n",
    "    print('Model',count+1, 'with these predictors:','acousticness','loudness','time_signature','mode ',i)\n",
    "    print('MSE:', mselist[count])\n",
    "    print('   ')\n",
    "    count+=1"
   ]
  },
  {
   "cell_type": "code",
   "execution_count": 17,
   "id": "9bdf639e",
   "metadata": {},
   "outputs": [
    {
     "name": "stdout",
     "output_type": "stream",
     "text": [
      "Model 1 with these predictors: acousticness, loudness, time_signature, mode, key  valence\n",
      "MSE: 56.12750921032956\n",
      "   \n",
      "Model 2 with these predictors: acousticness, loudness, time_signature, mode, key  danceability\n",
      "MSE: 56.2598755770696\n",
      "   \n",
      "Model 3 with these predictors: acousticness, loudness, time_signature, mode, key  energy\n",
      "MSE: 56.2348722327426\n",
      "   \n",
      "Model 4 with these predictors: acousticness, loudness, time_signature, mode, key  speechiness\n",
      "MSE: 56.029880807184085\n",
      "   \n",
      "Model 5 with these predictors: acousticness, loudness, time_signature, mode, key  instrumentalness\n",
      "MSE: 56.33276482674283\n",
      "   \n",
      "Model 6 with these predictors: acousticness, loudness, time_signature, mode, key  liveness\n",
      "MSE: 55.151305134425535\n",
      "   \n",
      "Model 7 with these predictors: acousticness, loudness, time_signature, mode, key  duration_ms\n",
      "MSE: 56.236553702368425\n",
      "   \n",
      "Model 8 with these predictors: acousticness, loudness, time_signature, mode, key  tempo\n",
      "MSE: 55.84862359156255\n",
      "   \n"
     ]
    }
   ],
   "source": [
    "vecofpredics=['valence','danceability','energy','speechiness','instrumentalness','liveness','duration_ms','tempo']\n",
    "mselist=[]\n",
    "selectedpredictor=[]\n",
    "count=0\n",
    "for i in vecofpredics:   \n",
    "    rf = RandomForestRegressor(n_estimators = 1000, max_depth = 2, bootstrap = True, oob_score = True,random_state=123)\n",
    "    fitted_model=rf.fit(np.array(x_train[[i,'acousticness','loudness','time_signature','mode','key' ]]),np.array(y_train).reshape(-1,1))\n",
    "    predicted_values=fitted_model.predict(np.array(x_test[[i,'acousticness','loudness','time_signature','mode','key']]))\n",
    "    mse = mean_squared_error(y_test, predicted_values)\n",
    "    mselist.append(mse)\n",
    "    selectedpredictor.append(i)\n",
    "    \n",
    "    print('Model',count+1, 'with these predictors:','acousticness, loudness, time_signature, mode, key ',i)\n",
    "    print('MSE:', mselist[count])\n",
    "    print('   ')\n",
    "    count+=1"
   ]
  },
  {
   "cell_type": "code",
   "execution_count": 18,
   "id": "06bccd3d",
   "metadata": {},
   "outputs": [
    {
     "name": "stdout",
     "output_type": "stream",
     "text": [
      "Model 1 with these predictors: acousticness, loudness, time_signature, mode, key, instrumentalness  valence\n",
      "MSE: 56.13842482275489\n",
      "   \n",
      "Model 2 with these predictors: acousticness, loudness, time_signature, mode, key, instrumentalness  danceability\n",
      "MSE: 56.287304214257254\n",
      "   \n",
      "Model 3 with these predictors: acousticness, loudness, time_signature, mode, key, instrumentalness  energy\n",
      "MSE: 56.274139925270156\n",
      "   \n",
      "Model 4 with these predictors: acousticness, loudness, time_signature, mode, key, instrumentalness  speechiness\n",
      "MSE: 56.06069426902529\n",
      "   \n",
      "Model 5 with these predictors: acousticness, loudness, time_signature, mode, key, instrumentalness  liveness\n",
      "MSE: 55.20161167989813\n",
      "   \n",
      "Model 6 with these predictors: acousticness, loudness, time_signature, mode, key, instrumentalness  duration_ms\n",
      "MSE: 56.24505394741624\n",
      "   \n",
      "Model 7 with these predictors: acousticness, loudness, time_signature, mode, key, instrumentalness  tempo\n",
      "MSE: 55.90220190872748\n",
      "   \n"
     ]
    }
   ],
   "source": [
    "vecofpredics=['valence','danceability','energy','speechiness','liveness','duration_ms','tempo']\n",
    "mselist=[]\n",
    "selectedpredictor=[]\n",
    "count=0\n",
    "for i in vecofpredics:   \n",
    "    rf = RandomForestRegressor(n_estimators = 1000, max_depth = 2, bootstrap = True, oob_score = True,random_state=123)\n",
    "    fitted_model=rf.fit(np.array(x_train[[i,'acousticness','loudness','time_signature','mode', 'key','instrumentalness']]),np.array(y_train).reshape(-1,1))\n",
    "    predicted_values=fitted_model.predict(np.array(x_test[[i,'acousticness','loudness','time_signature','mode', 'key','instrumentalness']]))\n",
    "    mse = mean_squared_error(y_test, predicted_values)\n",
    "    mselist.append(mse)\n",
    "    selectedpredictor.append(i)\n",
    "    \n",
    "    print('Model',count+1, 'with these predictors:','acousticness, loudness, time_signature, mode, key, instrumentalness ',i)\n",
    "    print('MSE:', mselist[count])\n",
    "    print('   ')\n",
    "    count+=1"
   ]
  },
  {
   "cell_type": "markdown",
   "id": "17c6ae94-06eb-4b1e-8db8-21e32721bd04",
   "metadata": {},
   "source": [
    "MSE goes up after the Model 5 with these predictors: acousticness, loudness, time_signature, mode, key  instrumentalness with MSE: 36.955625571664235\n",
    "\n",
    "Time for hyper tuning again -- Note: our lowests MSE is still the two feature bagged forest from before."
   ]
  },
  {
   "cell_type": "code",
   "execution_count": 19,
   "id": "dec9ce0a-fbf9-410d-a628-2f2d9139dad9",
   "metadata": {},
   "outputs": [
    {
     "name": "stdout",
     "output_type": "stream",
     "text": [
      "56.3437803387531 Max features of 1\n"
     ]
    }
   ],
   "source": [
    "rf = RandomForestRegressor(n_estimators = 1000, max_depth = 2, bootstrap = True, oob_score = True,random_state=123)\n",
    "fitted_model=rf.fit(np.array(x_train[['acousticness','loudness','time_signature','mode', 'key','instrumentalness']]),np.array(y_train).reshape(-1,1))\n",
    "predicted_values=fitted_model.predict(np.array(x_test[['acousticness','loudness','time_signature','mode', 'key','instrumentalness']]))\n",
    "mse = mean_squared_error(y_test, predicted_values)\n",
    "print(mse, 'Max features of 1')"
   ]
  },
  {
   "cell_type": "code",
   "execution_count": 20,
   "id": "d379f57a-81bd-4edc-947d-4a69d79205d6",
   "metadata": {},
   "outputs": [
    {
     "name": "stdout",
     "output_type": "stream",
     "text": [
      "54.40111905028071 Max features of sqtr(n features)\n"
     ]
    }
   ],
   "source": [
    "rf = RandomForestRegressor(n_estimators = 1000, max_depth = 2, max_features = 'sqrt', bootstrap = True, oob_score = True,random_state=123)\n",
    "fitted_model=rf.fit(np.array(x_train[['acousticness','loudness','time_signature','mode', 'key','instrumentalness']]),np.array(y_train).reshape(-1,1))\n",
    "predicted_values=fitted_model.predict(np.array(x_test[['acousticness','loudness','time_signature','mode', 'key','instrumentalness']]))\n",
    "mse = mean_squared_error(y_test, predicted_values)\n",
    "print(mse, 'Max features of sqtr(n features)')"
   ]
  },
  {
   "cell_type": "code",
   "execution_count": 21,
   "id": "47a080ff-a6df-4edd-b74c-51b04ed4bc6d",
   "metadata": {},
   "outputs": [
    {
     "name": "stdout",
     "output_type": "stream",
     "text": [
      "54.40111905028071 Max features of log2(n features)\n"
     ]
    }
   ],
   "source": [
    "rf = RandomForestRegressor(n_estimators = 1000, max_depth = 2, max_features = 'log2', bootstrap = True, oob_score = True,random_state=123)\n",
    "fitted_model=rf.fit(np.array(x_train[['acousticness','loudness','time_signature','mode', 'key','instrumentalness']]),np.array(y_train).reshape(-1,1))\n",
    "predicted_values=fitted_model.predict(np.array(x_test[['acousticness','loudness','time_signature','mode', 'key','instrumentalness']]))\n",
    "mse = mean_squared_error(y_test, predicted_values)\n",
    "print(mse, 'Max features of log2(n features)')"
   ]
  },
  {
   "cell_type": "code",
   "execution_count": 22,
   "id": "b1960bc4-210a-461e-be01-5dfc8e9a1859",
   "metadata": {},
   "outputs": [
    {
     "name": "stdout",
     "output_type": "stream",
     "text": [
      "54.707247798061964 Max features of 3 (which is n features/3)\n"
     ]
    }
   ],
   "source": [
    "rf = RandomForestRegressor(n_estimators = 1000, max_depth = 2, max_features = 3, bootstrap = True, oob_score = True,random_state=123)\n",
    "fitted_model=rf.fit(np.array(x_train[['acousticness','loudness','time_signature','mode', 'key','instrumentalness']]),np.array(y_train).reshape(-1,1))\n",
    "predicted_values=fitted_model.predict(np.array(x_test[['acousticness','loudness','time_signature','mode', 'key','instrumentalness']]))\n",
    "mse = mean_squared_error(y_test, predicted_values)\n",
    "print(mse, 'Max features of 3 (which is n features/3)')"
   ]
  },
  {
   "cell_type": "markdown",
   "id": "7df765d6-e53b-4768-bddf-660840cd4020",
   "metadata": {},
   "source": [
    "Max features of n features/3 will be our max features value"
   ]
  },
  {
   "cell_type": "code",
   "execution_count": 23,
   "id": "41ff3527-9a38-4d27-905f-8c8859e33461",
   "metadata": {},
   "outputs": [
    {
     "name": "stdout",
     "output_type": "stream",
     "text": [
      "Model 1 with these predictors: acousticness, loudness, time_signature, mode, key, instrumentalness  valence\n",
      "MSE: 54.407655757665154\n",
      "   \n",
      "Model 2 with these predictors: acousticness, loudness, time_signature, mode, key, instrumentalness  danceability\n",
      "MSE: 54.48865085862144\n",
      "   \n",
      "Model 3 with these predictors: acousticness, loudness, time_signature, mode, key, instrumentalness  energy\n",
      "MSE: 54.48077450447718\n",
      "   \n",
      "Model 4 with these predictors: acousticness, loudness, time_signature, mode, key, instrumentalness  speechiness\n",
      "MSE: 54.485964353322586\n",
      "   \n",
      "Model 5 with these predictors: acousticness, loudness, time_signature, mode, key, instrumentalness  liveness\n",
      "MSE: 54.10103697956936\n",
      "   \n",
      "Model 6 with these predictors: acousticness, loudness, time_signature, mode, key, instrumentalness  duration_ms\n",
      "MSE: 54.50966782711282\n",
      "   \n",
      "Model 7 with these predictors: acousticness, loudness, time_signature, mode, key, instrumentalness  tempo\n",
      "MSE: 54.42463842840887\n",
      "   \n"
     ]
    }
   ],
   "source": [
    "vecofpredics=['valence','danceability','energy','speechiness','liveness','duration_ms','tempo']\n",
    "mselist=[]\n",
    "selectedpredictor=[]\n",
    "count=0\n",
    "for i in vecofpredics:   \n",
    "    rf = RandomForestRegressor(n_estimators = 1000, max_depth = 2, max_features = 3, bootstrap = True, oob_score = True,random_state=123)\n",
    "    fitted_model=rf.fit(np.array(x_train[[i,'acousticness','loudness','time_signature','mode', 'key','instrumentalness']]),np.array(y_train).reshape(-1,1))\n",
    "    predicted_values=fitted_model.predict(np.array(x_test[[i,'acousticness','loudness','time_signature','mode', 'key','instrumentalness']]))\n",
    "    mse = mean_squared_error(y_test, predicted_values)\n",
    "    mselist.append(mse)\n",
    "    selectedpredictor.append(i)\n",
    "    \n",
    "    print('Model',count+1, 'with these predictors:','acousticness, loudness, time_signature, mode, key, instrumentalness ',i)\n",
    "    print('MSE:', mselist[count])\n",
    "    print('   ')\n",
    "    count+=1"
   ]
  },
  {
   "cell_type": "code",
   "execution_count": null,
   "id": "463227d0-f8de-47c8-b00d-e1bdc217bde9",
   "metadata": {},
   "outputs": [],
   "source": [
    "vecofpredics=['valence','danceability','energy','speechiness','liveness','tempo']\n",
    "mselist=[]\n",
    "selectedpredictor=[]\n",
    "count=0\n",
    "for i in vecofpredics:   \n",
    "    rf = RandomForestRegressor(n_estimators = 1000, max_depth = 2, max_features = 3, bootstrap = True, oob_score = True,random_state=123)\n",
    "    fitted_model=rf.fit(np.array(x_train[[i,'acousticness','loudness','time_signature','mode', 'key','instrumentalness','duration_ms']]),np.array(y_train).reshape(-1,1))\n",
    "    predicted_values=fitted_model.predict(np.array(x_test[[i,'acousticness','loudness','time_signature','mode', 'key','instrumentalness','duration_ms']]))\n",
    "    mse = mean_squared_error(y_test, predicted_values)\n",
    "    mselist.append(mse)\n",
    "    selectedpredictor.append(i)\n",
    "    \n",
    "    print('Model',count+1, 'with these predictors:','acousticness, loudness, time_signature, mode, key, instrumentalness, duration_ms ',i)\n",
    "    print('MSE:', mselist[count])\n",
    "    print('   ')\n",
    "    count+=1"
   ]
  },
  {
   "cell_type": "markdown",
   "id": "ca62872e-695b-4bbf-87d9-f2a4321f5af4",
   "metadata": {},
   "source": [
    "The model just gets worse from here on out"
   ]
  },
  {
   "cell_type": "code",
   "execution_count": null,
   "id": "dc705812",
   "metadata": {},
   "outputs": [],
   "source": [
    "vecofpredics=['valence','energy','speechiness','liveness','tempo']\n",
    "mselist=[]\n",
    "selectedpredictor=[]\n",
    "count=0\n",
    "for i in vecofpredics:   \n",
    "    rf = RandomForestRegressor(n_estimators = 1000, max_depth = 2, max_features = 3, bootstrap = True, oob_score = True,random_state=123)\n",
    "    fitted_model=rf.fit(np.array(x_train[[i,'acousticness','loudness','time_signature','mode', 'key','instrumentalness','duration_ms', 'danceability']]),np.array(y_train).reshape(-1,1))\n",
    "    predicted_values=fitted_model.predict(np.array(x_test[[i,'acousticness','loudness','time_signature','mode', 'key','instrumentalness','duration_ms', 'danceability']]))\n",
    "    mse = mean_squared_error(y_test, predicted_values)\n",
    "    mselist.append(mse)\n",
    "    selectedpredictor.append(i)\n",
    "    \n",
    "    print('Model',count+1, 'with these predictors:','acousticness, loudness, time_signature, mode, key, instrumentalness, duration_ms, danceability ',i)\n",
    "    print('MSE:', mselist[count])\n",
    "    print('   ')\n",
    "    count+=1"
   ]
  },
  {
   "cell_type": "code",
   "execution_count": null,
   "id": "ab708698",
   "metadata": {},
   "outputs": [],
   "source": [
    "vecofpredics=['valence','energy','speechiness','tempo']\n",
    "mselist=[]\n",
    "selectedpredictor=[]\n",
    "count=0\n",
    "for i in vecofpredics:   \n",
    "    rf = RandomForestRegressor(n_estimators = 1000, max_depth = 2, max_features = 3, bootstrap = True, oob_score = True,random_state=123)\n",
    "    fitted_model=rf.fit(np.array(x_train[[i,'acousticness','loudness','time_signature','mode', 'key','instrumentalness','duration_ms', 'danceability','liveness']]),np.array(y_train).reshape(-1,1))\n",
    "    predicted_values=fitted_model.predict(np.array(x_test[[i,'acousticness','loudness','time_signature','mode', 'key','instrumentalness','duration_ms', 'danceability','liveness']]))\n",
    "    mse = mean_squared_error(y_test, predicted_values)\n",
    "    mselist.append(mse)\n",
    "    selectedpredictor.append(i)\n",
    "    \n",
    "    print('Model',count+1, 'with these predictors:','acousticness, loudness, time_signature, mode, key, instrumentalness, duration_ms, danceability, liveness ',i)\n",
    "    print('MSE:', mselist[count])\n",
    "    print('   ')\n",
    "    count+=1"
   ]
  },
  {
   "cell_type": "code",
   "execution_count": null,
   "id": "c606356d",
   "metadata": {},
   "outputs": [],
   "source": [
    "vecofpredics=['energy','speechiness','tempo']\n",
    "mselist=[]\n",
    "selectedpredictor=[]\n",
    "count=0\n",
    "for i in vecofpredics:   \n",
    "    rf = RandomForestRegressor(n_estimators = 1000, max_depth = 2, max_features = 3, bootstrap = True, oob_score = True,random_state=123)\n",
    "    fitted_model=rf.fit(np.array(x_train[[i,'acousticness','loudness','time_signature','mode', 'key','instrumentalness','duration_ms', 'danceability','liveness','valence']]),np.array(y_train).reshape(-1,1))\n",
    "    predicted_values=fitted_model.predict(np.array(x_test[[i,'acousticness','loudness','time_signature','mode', 'key','instrumentalness','duration_ms', 'danceability','liveness','valence']]))\n",
    "    mse = mean_squared_error(y_test, predicted_values)\n",
    "    mselist.append(mse)\n",
    "    selectedpredictor.append(i)\n",
    "    \n",
    "    print('Model',count+1, 'with these predictors:','acousticness, loudness, time_signature, mode, key, instrumentalness, duration_ms, danceability, liveness, valence ',i)\n",
    "    print('MSE:', mselist[count])\n",
    "    print('   ')\n",
    "    count+=1"
   ]
  },
  {
   "cell_type": "code",
   "execution_count": null,
   "id": "3ef06230",
   "metadata": {},
   "outputs": [],
   "source": [
    "vecofpredics=['speechiness','tempo']\n",
    "mselist=[]\n",
    "selectedpredictor=[]\n",
    "count=0\n",
    "for i in vecofpredics:   \n",
    "    rf = RandomForestRegressor(n_estimators = 1000, max_depth = 2, max_features = 3, bootstrap = True, oob_score = True,random_state=123)\n",
    "    fitted_model=rf.fit(np.array(x_train[[i,'acousticness','loudness','time_signature','mode', 'key','instrumentalness','duration_ms', 'danceability','liveness','valence','energy']]),np.array(y_train).reshape(-1,1))\n",
    "    predicted_values=fitted_model.predict(np.array(x_test[[i,'acousticness','loudness','time_signature','mode', 'key','instrumentalness','duration_ms', 'danceability','liveness','valence','energy']]))\n",
    "    mse = mean_squared_error(y_test, predicted_values)\n",
    "    mselist.append(mse)\n",
    "    selectedpredictor.append(i)\n",
    "    \n",
    "    print('Model',count+1, 'with these predictors:','acousticness, loudness, time_signature, mode, key, instrumentalness, duration_ms, danceability, liveness, valence, energy ',i)\n",
    "    print('MSE:', mselist[count])\n",
    "    print('   ')\n",
    "    count+=1"
   ]
  },
  {
   "cell_type": "code",
   "execution_count": null,
   "id": "bfd53ac1",
   "metadata": {},
   "outputs": [],
   "source": [
    "vecofpredics=['tempo']\n",
    "mselist=[]\n",
    "selectedpredictor=[]\n",
    "count=0\n",
    "for i in vecofpredics:   \n",
    "    rf = RandomForestRegressor(n_estimators = 1000, max_depth = 2, max_features = 3, bootstrap = True, oob_score = True,random_state=123)\n",
    "    fitted_model=rf.fit(np.array(x_train[[i,'acousticness','loudness','time_signature','mode', 'key','instrumentalness','duration_ms', 'danceability','liveness','valence','speechiness']]),np.array(y_train).reshape(-1,1))\n",
    "    predicted_values=fitted_model.predict(np.array(x_test[[i,'acousticness','loudness','time_signature','mode', 'key','instrumentalness','duration_ms', 'danceability','liveness','valence','speechiness']]))\n",
    "    mse = mean_squared_error(y_test, predicted_values)\n",
    "    mselist.append(mse)\n",
    "    selectedpredictor.append(i)\n",
    "    \n",
    "    print('Model',count+1, 'with these predictors:','acousticness, loudness, time_signature, mode, key, instrumentalness, duration_ms, danceability, liveness, valence, speechiness ',i)\n",
    "    print('MSE:', mselist[count])\n",
    "    print('   ')\n",
    "    count+=1"
   ]
  },
  {
   "cell_type": "markdown",
   "id": "94de57e1-cfee-44b7-9095-60140049013d",
   "metadata": {},
   "source": [
    "FINAL MODELS "
   ]
  },
  {
   "cell_type": "markdown",
   "id": "d9c31a36-5219-4e39-87a7-8c0800605d44",
   "metadata": {},
   "source": [
    "Hyper tuned model with max features at 3 and max depth at 2"
   ]
  },
  {
   "cell_type": "code",
   "execution_count": 30,
   "id": "0ef36251-057e-46f9-bfb6-206ea809325e",
   "metadata": {},
   "outputs": [
    {
     "data": {
      "text/plain": [
       "7.173922280307885"
      ]
     },
     "execution_count": 30,
     "metadata": {},
     "output_type": "execute_result"
    }
   ],
   "source": [
    "rf = RandomForestRegressor(n_estimators = 1000, max_depth = 2, max_features = 3, bootstrap = True, oob_score = True,random_state=123)\n",
    "fitted_model=rf.fit(np.array(x_train[['acousticness','loudness','time_signature','mode', 'key','instrumentalness']]),np.array(y_train).reshape(-1,1))\n",
    "predicted_values=fitted_model.predict(np.array(x_test[['acousticness','loudness','time_signature','mode', 'key','instrumentalness']]))\n",
    "list(predicted_values)"
   ]
  },
  {
   "cell_type": "markdown",
   "id": "2ad39888-6d69-4e02-8414-3e45c5784192",
   "metadata": {},
   "source": [
    "OG two variable model the returned the best MSE we saw"
   ]
  },
  {
   "cell_type": "code",
   "execution_count": null,
   "id": "2596308f-0b73-4121-b164-d7709bbafcea",
   "metadata": {},
   "outputs": [],
   "source": [
    "rf = RandomForestRegressor(n_estimators = 1000, bootstrap = True, max_depth =2, oob_score = True,random_state=123)\n",
    "fitted_model=rf.fit(np.array(x_train[['acousticness','loudness']]),np.array(y_train).reshape(-1,1))\n",
    "predicted_values=fitted_model.predict(np.array(x_test[['acousticness','loudness']]))\n",
    "mse = mean_squared_error(y_test, predicted_values)\n",
    "print(mse, 'best model 2 out of 2')"
   ]
  },
  {
   "cell_type": "code",
   "execution_count": null,
   "id": "1b6967a2",
   "metadata": {},
   "outputs": [],
   "source": [
    "import plotly.express as px"
   ]
  },
  {
   "cell_type": "code",
   "execution_count": null,
   "id": "099c995a",
   "metadata": {},
   "outputs": [],
   "source": [
    "px.histogram(score1,'time_signature')"
   ]
  },
  {
   "cell_type": "code",
   "execution_count": null,
   "id": "424d3481",
   "metadata": {},
   "outputs": [],
   "source": []
  }
 ],
 "metadata": {
  "kernelspec": {
   "display_name": "Python 3 (ipykernel)",
   "language": "python",
   "name": "python3"
  },
  "language_info": {
   "codemirror_mode": {
    "name": "ipython",
    "version": 3
   },
   "file_extension": ".py",
   "mimetype": "text/x-python",
   "name": "python",
   "nbconvert_exporter": "python",
   "pygments_lexer": "ipython3",
   "version": "3.9.12"
  }
 },
 "nbformat": 4,
 "nbformat_minor": 5
}
